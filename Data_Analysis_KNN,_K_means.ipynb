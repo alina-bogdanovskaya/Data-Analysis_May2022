{
  "nbformat": 4,
  "nbformat_minor": 0,
  "metadata": {
    "colab": {
      "name": "Data Analysis_KNN, K-means.ipynb",
      "provenance": [],
      "collapsed_sections": [],
      "authorship_tag": "ABX9TyONtxNf7i+K/xnmA0TXBtXy",
      "include_colab_link": true
    },
    "kernelspec": {
      "name": "python3",
      "display_name": "Python 3"
    },
    "language_info": {
      "name": "python"
    }
  },
  "cells": [
    {
      "cell_type": "markdown",
      "metadata": {
        "id": "view-in-github",
        "colab_type": "text"
      },
      "source": [
        "<a href=\"https://colab.research.google.com/github/alina-bogdanovskaya/Data-Analysis_May2022/blob/lesson7/Data_Analysis_KNN%2C_K_means.ipynb\" target=\"_parent\"><img src=\"https://colab.research.google.com/assets/colab-badge.svg\" alt=\"Open In Colab\"/></a>"
      ]
    },
    {
      "cell_type": "code",
      "execution_count": 199,
      "metadata": {
        "id": "C6vAwK_4MZAG"
      },
      "outputs": [],
      "source": [
        "%matplotlib inline\n",
        "import matplotlib.pyplot as plt\n",
        "from matplotlib.colors import ListedColormap\n",
        "import random\n",
        "import numpy as np\n",
        "from sklearn import model_selection\n",
        "from sklearn.datasets import load_iris\n",
        "from sklearn.datasets import make_blobs\n",
        "from sklearn.cluster import KMeans\n"
      ]
    },
    {
      "cell_type": "code",
      "source": [
        "X, y = load_iris(return_X_y=True)\n",
        "\n",
        "X = X[:, :2]"
      ],
      "metadata": {
        "id": "FSfhjYe5T_uO"
      },
      "execution_count": 200,
      "outputs": []
    },
    {
      "cell_type": "code",
      "source": [
        "X_train, X_test, y_train, y_test = model_selection.train_test_split(X, y, test_size=0.2, random_state=1)"
      ],
      "metadata": {
        "id": "_KGKNJAVUG3W"
      },
      "execution_count": 201,
      "outputs": []
    },
    {
      "cell_type": "code",
      "source": [
        "cmap = ListedColormap(['red', 'green', 'blue'])\n",
        "plt.figure(figsize=(7, 7))\n",
        "plt.scatter(X[:, 0], X[:, 1], c=y, cmap=cmap)"
      ],
      "metadata": {
        "colab": {
          "base_uri": "https://localhost:8080/",
          "height": 447
        },
        "id": "AaffVeZZUIKp",
        "outputId": "4ed63923-d239-4485-9bd9-3aeb8661eab1"
      },
      "execution_count": 202,
      "outputs": [
        {
          "output_type": "execute_result",
          "data": {
            "text/plain": [
              "<matplotlib.collections.PathCollection at 0x7fee28ccf190>"
            ]
          },
          "metadata": {},
          "execution_count": 202
        },
        {
          "output_type": "display_data",
          "data": {
            "text/plain": [
              "<Figure size 504x504 with 1 Axes>"
            ],
            "image/png": "[encoded data removed]"
          },
          "metadata": {
            "needs_background": "light"
          }
        }
      ]
    },
    {
      "cell_type": "code",
      "source": [
        "def e_metrics(x1, x2):\n",
        "    \n",
        "    distance = 0\n",
        "    for i in range(len(x1)):\n",
        "        distance += np.square(x1[i] - x2[i])\n",
        "      \n",
        "    return np.sqrt(distance)"
      ],
      "metadata": {
        "id": "brq5lXU7OxKT"
      },
      "execution_count": 203,
      "outputs": []
    },
    {
      "cell_type": "code",
      "source": [
        "def knn(x_train, y_train, x_test, k):\n",
        "    \n",
        "    answers = []\n",
        "    \n",
        "    for x in x_test:\n",
        "        test_distances = []\n",
        "            \n",
        "        for i in range(len(x_train)):\n",
        "            \n",
        "            # расчет расстояния от классифицируемого объекта до\n",
        "            # объекта обучающей выборки\n",
        "            distance = e_metrics(x, x_train[i])\n",
        "            \n",
        "            # Записываем в список значение расстояния и ответа на объекте обучающей выборки\n",
        "            test_distances.append((distance, y_train[i]))\n",
        "        \n",
        "        # создаем словарь со всеми возможными классами\n",
        "        classes = {class_item: 0 for class_item in set(y_train)}\n",
        "        \n",
        "        # Сортируем список и среди первых k элементов подсчитаем частоту появления разных классов\n",
        "        for d in sorted(test_distances)[0:k]:\n",
        "            classes[d[1]] += 1\n",
        "            \n",
        "        # Записываем в список ответов наиболее часто встречающийся класс\n",
        "        answers.append(sorted(classes, key=classes.get)[-1])\n",
        "    return answers"
      ],
      "metadata": {
        "id": "i27m-yJkO2ss"
      },
      "execution_count": 204,
      "outputs": []
    },
    {
      "cell_type": "code",
      "source": [
        "def knn_weighted(x_train, y_train, x_test, k):\n",
        "\n",
        "    answers = []\n",
        "    q = 0.02\n",
        "    a = 0.5\n",
        "    b = 2\n",
        "\n",
        "    for x in x_test:\n",
        "        test_distances = []\n",
        "            \n",
        "        for i in range(len(x_train)):\n",
        "            \n",
        "            distance = e_metrics(x, x_train[i])\n",
        "            test_distances.append((distance, y_train[i]))\n",
        "        \n",
        "        classes = {class_item: 0 for class_item in set(y_train)}\n",
        "       \n",
        "        for d in sorted(test_distances)[0:k]:\n",
        "            # weight = q**d[0]\n",
        "            weight = 1/((d[0] + a)**b)\n",
        "            classes[d[1]] += weight\n",
        "            \n",
        "        # Записываем в список ответов наибольшее расстояние\n",
        "        answers.append(sorted(classes, key=classes.get)[-1])\n",
        "    return answers"
      ],
      "metadata": {
        "id": "hqYpyY0keJQi"
      },
      "execution_count": 205,
      "outputs": []
    },
    {
      "cell_type": "code",
      "source": [
        "def accuracy(pred, y):\n",
        "    return (sum(pred == y) / len(y))"
      ],
      "metadata": {
        "id": "IueSCPFrO4-l"
      },
      "execution_count": 206,
      "outputs": []
    },
    {
      "cell_type": "code",
      "source": [
        "def get_graph(X_train, y_train, k):\n",
        "    cmap_light = ListedColormap(['#FFAAAA', '#AAFFAA','#00AAFF'])\n",
        "\n",
        "    h = .02\n",
        "\n",
        "    # Расчет пределов графика\n",
        "    x_min, x_max = X_train[:, 0].min() - 1, X_train[:, 0].max() + 1\n",
        "    y_min, y_max = X_train[:, 1].min() - 1, X_train[:, 1].max() + 1\n",
        "    xx, yy = np.meshgrid(np.arange(x_min, x_max, h), np.arange(y_min, y_max, h))\n",
        "\n",
        "    # Получим предсказания для всех точек\n",
        "    Z = knn(X_train, y_train, np.c_[xx.ravel(), yy.ravel()], k)\n",
        "\n",
        "    # Построим график\n",
        "    Z = np.array(Z).reshape(xx.shape)\n",
        "    plt.figure(figsize=(7,7))\n",
        "    plt.pcolormesh(xx, yy, Z, cmap=cmap_light)\n",
        "\n",
        "    # Добавим на график обучающую выборку\n",
        "    plt.scatter(X_train[:, 0], X_train[:, 1], c=y_train, cmap=cmap)\n",
        "    plt.xlim(xx.min(), xx.max())\n",
        "    plt.ylim(yy.min(), yy.max())\n",
        "    plt.title(f\"Трехклассовая kNN классификация при k = {k}\")\n",
        "    plt.show()"
      ],
      "metadata": {
        "id": "GBQoKNd1VADC"
      },
      "execution_count": 207,
      "outputs": []
    },
    {
      "cell_type": "code",
      "source": [
        "accuracy_measure = []\n",
        "accuracy_measure_weighted = []\n",
        "\n",
        "for k in range(1, 11):\n",
        "  y_pred = knn(X_train, y_train, X_test, k)\n",
        "  y_pred_2 = knn_weighted(X_train, y_train, X_test, k)\n",
        "  accuracy_measure.append(accuracy(y_pred, y_test))\n",
        "  accuracy_measure_weighted.append(accuracy(y_pred_2, y_test))\n",
        "\n",
        "  print(f'Точность алгоритма при k = {k}: {accuracy(y_pred, y_test):.3f}')\n",
        "  print(f'Точность алгоритма с учетом весов при k = {k}: {accuracy(y_pred_2, y_test):.3f}')"
      ],
      "metadata": {
        "colab": {
          "base_uri": "https://localhost:8080/"
        },
        "id": "3nDfih5M4orX",
        "outputId": "0f5ecf6f-04fb-497c-ccce-ef43a30a7179"
      },
      "execution_count": 208,
      "outputs": [
        {
          "output_type": "stream",
          "name": "stdout",
          "text": [
            "Точность алгоритма при k = 1: 0.667\n",
            "Точность алгоритма с учетом весов при k = 1: 0.667\n",
            "Точность алгоритма при k = 2: 0.667\n",
            "Точность алгоритма с учетом весов при k = 2: 0.733\n",
            "Точность алгоритма при k = 3: 0.733\n",
            "Точность алгоритма с учетом весов при k = 3: 0.733\n",
            "Точность алгоритма при k = 4: 0.833\n",
            "Точность алгоритма с учетом весов при k = 4: 0.767\n",
            "Точность алгоритма при k = 5: 0.867\n",
            "Точность алгоритма с учетом весов при k = 5: 0.833\n",
            "Точность алгоритма при k = 6: 0.833\n",
            "Точность алгоритма с учетом весов при k = 6: 0.867\n",
            "Точность алгоритма при k = 7: 0.800\n",
            "Точность алгоритма с учетом весов при k = 7: 0.767\n",
            "Точность алгоритма при k = 8: 0.800\n",
            "Точность алгоритма с учетом весов при k = 8: 0.833\n",
            "Точность алгоритма при k = 9: 0.867\n",
            "Точность алгоритма с учетом весов при k = 9: 0.867\n",
            "Точность алгоритма при k = 10: 0.833\n",
            "Точность алгоритма с учетом весов при k = 10: 0.867\n"
          ]
        }
      ]
    },
    {
      "cell_type": "code",
      "source": [
        "plt.plot(range(1, 11), accuracy_measure, label='Accuracy')\n",
        "plt.plot(range(1, 11), accuracy_measure_weighted, label='Accuracy based on weights')\n",
        "plt.title('KNN accuracy')\n",
        "plt.xlabel('k')\n",
        "plt.ylabel('Accuracy')\n",
        "plt.legend()"
      ],
      "metadata": {
        "colab": {
          "base_uri": "https://localhost:8080/",
          "height": 312
        },
        "id": "yisFPTwU5lEu",
        "outputId": "7f1528af-304a-449a-f130-a691eac0feb2"
      },
      "execution_count": 209,
      "outputs": [
        {
          "output_type": "execute_result",
          "data": {
            "text/plain": [
              "<matplotlib.legend.Legend at 0x7fee289abe10>"
            ]
          },
          "metadata": {},
          "execution_count": 209
        },
        {
          "output_type": "display_data",
          "data": {
            "text/plain": [
              "<Figure size 432x288 with 1 Axes>"
            ],
            "image/png": "[encoded data removed]"
          },
          "metadata": {
            "needs_background": "light"
          }
        }
      ]
    },
    {
      "cell_type": "code",
      "source": [
        "X, y = make_blobs(n_samples=100, random_state=1)"
      ],
      "metadata": {
        "id": "66ML3jDhMd0g"
      },
      "execution_count": 210,
      "outputs": []
    },
    {
      "cell_type": "code",
      "source": [
        "plt.figure(figsize=(7,7))\n",
        "plt.scatter(X[:, 0], X[:, 1])"
      ],
      "metadata": {
        "colab": {
          "base_uri": "https://localhost:8080/",
          "height": 445
        },
        "id": "gsYtv_IgNzn0",
        "outputId": "f601a391-d0cf-4c63-806d-d005f522fdb6"
      },
      "execution_count": 211,
      "outputs": [
        {
          "output_type": "execute_result",
          "data": {
            "text/plain": [
              "<matplotlib.collections.PathCollection at 0x7fee288ce310>"
            ]
          },
          "metadata": {},
          "execution_count": 211
        },
        {
          "output_type": "display_data",
          "data": {
            "text/plain": [
              "<Figure size 504x504 with 1 Axes>"
            ],
            "image/png": "[encoded data removed]"
          },
          "metadata": {
            "needs_background": "light"
          }
        }
      ]
    },
    {
      "cell_type": "code",
      "source": [
        "def kmeans(data, k, max_iterations, min_distance):\n",
        "       \n",
        "    # инициализируем центроиды как первые k элементов датасета\n",
        "    centroids = [data[i] for i in range(k)]\n",
        "    \n",
        "    for _ in range(max_iterations):\n",
        "        # Создадим словарь для классификации\n",
        "        classes = {i: [] for i in range(k)}\n",
        "        # классифицируем объекты по центроидам\n",
        "        for x in data:\n",
        "            # определим расстояния от объекта до каждого центроида\n",
        "            distances = [e_metrics(x, centroid) for centroid in centroids]\n",
        "            # отнесем объект к кластеру, до центроида которого наименьшее расстояние\n",
        "            classification = distances.index(min(distances))\n",
        "            classes[classification].append(x)\n",
        "        \n",
        "        # сохраним предыдущие центроиды в отдельный список для последующего сравнения с новыми\n",
        "        old_centroids = centroids.copy()\n",
        "        \n",
        "        # пересчитаем центроиды как среднее по кластерам\n",
        "        for classification in classes:\n",
        "            centroids[classification] = np.average(classes[classification], axis=0)\n",
        "            \n",
        "        # сравним величину смещения центроидов с минимальной\n",
        "        optimal = True\n",
        "        for centroid in range(len(centroids)):\n",
        "            if np.sum(abs((centroids[centroid] - old_centroids[centroid]) / old_centroids * 100)) > min_distance:\n",
        "                optimal = False\n",
        "                \n",
        "        # если все смещения меньше минимального, останавливаем алгоритм  \n",
        "        if optimal:\n",
        "            break\n",
        "    \n",
        "    return old_centroids, classes"
      ],
      "metadata": {
        "id": "Y7Y_K95GPDSe"
      },
      "execution_count": 212,
      "outputs": []
    },
    {
      "cell_type": "code",
      "source": [
        "def visualize(centroids, classes):\n",
        "    colors = ['r', 'g', 'b']\n",
        "    \n",
        "    plt.figure(figsize=(7,7))\n",
        "    \n",
        "    # нанесем на график центроиды\n",
        "    for centroid in centroids:\n",
        "        plt.scatter(centroid[0], centroid[1], marker='x', s=130, c='black')\n",
        "        \n",
        "    # нанесем объекты раскрашенные по классам\n",
        "    for class_item in classes:\n",
        "        for x in classes[class_item]:\n",
        "            plt.scatter(x[0], x[1], color=colors[class_item])\n",
        "            \n",
        "    plt.show()"
      ],
      "metadata": {
        "id": "L3FBJeErPF3c"
      },
      "execution_count": 213,
      "outputs": []
    },
    {
      "cell_type": "code",
      "source": [
        "def SSE(centroids, clusters):\n",
        "    sse = 0\n",
        "    for i, centroid in enumerate(centroids):\n",
        "        clusterwise_distances = []\n",
        "    \n",
        "        for point in clusters[i]:\n",
        "            sq_distance = np.square(e_metrics(centroid, point))\n",
        "            clusterwise_distances.append(sq_distance)\n",
        "    \n",
        "        sse += np.sum(clusterwise_distances) \n",
        "    \n",
        "    return sse"
      ],
      "metadata": {
        "id": "hhSO7BF8cDzU"
      },
      "execution_count": 214,
      "outputs": []
    },
    {
      "cell_type": "code",
      "source": [
        "sse_measure = []\n",
        "max_iterations = 10\n",
        "min_distance = 1e-4\n",
        "\n",
        "for k in range(1, 11):\n",
        "    centroids, clusters = kmeans(X, k, max_iterations, min_distance) \n",
        "    sse_measure.append(SSE(centroids, clusters))\n",
        "\n",
        "sse_measure"
      ],
      "metadata": {
        "colab": {
          "base_uri": "https://localhost:8080/"
        },
        "id": "KzjRqXLC3NDi",
        "outputId": "c8e72879-22d8-416a-eadc-31fbb77b88da"
      },
      "execution_count": 215,
      "outputs": [
        {
          "output_type": "execute_result",
          "data": {
            "text/plain": [
              "[4118.153777704471,\n",
              " 661.5698490972001,\n",
              " 156.28289251170003,\n",
              " 139.3741146136838,\n",
              " 126.57537841891627,\n",
              " 115.8130108490437,\n",
              " 101.33706078363487,\n",
              " 98.00829163101346,\n",
              " 72.88769594879396,\n",
              " 58.46251834933362]"
            ]
          },
          "metadata": {},
          "execution_count": 215
        }
      ]
    },
    {
      "cell_type": "code",
      "source": [
        "cs = []\n",
        "for i in range(1, 11):\n",
        "    kmeans = KMeans(n_clusters = i, init = 'k-means++', max_iter = 10, n_init = 10, random_state = 1)\n",
        "    kmeans.fit(X)\n",
        "    cs.append(kmeans.inertia_)\n",
        "    print(kmeans.inertia_)\n"
      ],
      "metadata": {
        "colab": {
          "base_uri": "https://localhost:8080/"
        },
        "id": "LgLQvKIL3c9T",
        "outputId": "e0a32ffb-30b8-4ea8-f81f-e97a4be12fc6"
      },
      "execution_count": 216,
      "outputs": [
        {
          "output_type": "stream",
          "name": "stdout",
          "text": [
            "4118.153777704471\n",
            "661.5698490972004\n",
            "156.28289251170003\n",
            "130.96121900774804\n",
            "112.3482098903684\n",
            "97.4661085352347\n",
            "81.95148611237343\n",
            "68.84208083839681\n",
            "61.34589112585951\n",
            "55.774735135553414\n"
          ]
        }
      ]
    },
    {
      "cell_type": "code",
      "source": [
        "plt.plot(range(1, 11), sse_measure, label='SSE')\n",
        "plt.plot(range(1, 11), cs, label='KMeans.inertia')\n",
        "plt.title('The Elbow Method')\n",
        "plt.xlabel('Number of clusters, k')\n",
        "plt.ylabel('SSE')\n",
        "plt.legend(loc='upper right')\n"
      ],
      "metadata": {
        "colab": {
          "base_uri": "https://localhost:8080/",
          "height": 312
        },
        "id": "vRykVmCS3q4E",
        "outputId": "ca7da01d-000a-4503-fe6d-2a0823050444"
      },
      "execution_count": 219,
      "outputs": [
        {
          "output_type": "execute_result",
          "data": {
            "text/plain": [
              "<matplotlib.legend.Legend at 0x7fee287e0390>"
            ]
          },
          "metadata": {},
          "execution_count": 219
        },
        {
          "output_type": "display_data",
          "data": {
            "text/plain": [
              "<Figure size 432x288 with 1 Axes>"
            ],
            "image/png": "[encoded data removed]"
          },
          "metadata": {
            "needs_background": "light"
          }
        }
      ]
    }
  ]
}