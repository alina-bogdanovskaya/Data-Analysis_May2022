{
 "cells": [
  {
   "cell_type": "code",
   "execution_count": 1,
   "id": "1045902f",
   "metadata": {},
   "outputs": [],
   "source": [
    "%matplotlib inline\n",
    "import matplotlib.pyplot as plt\n",
    "from matplotlib.colors import ListedColormap\n",
    "import random\n",
    "import numpy as np\n",
    "from sklearn import model_selection\n",
    "from sklearn.datasets import load_iris"
   ]
  },
  {
   "cell_type": "code",
   "execution_count": 2,
   "id": "864832c1",
   "metadata": {},
   "outputs": [
    {
     "data": {
      "text/plain": [
       "(150, 4)"
      ]
     },
     "execution_count": 2,
     "metadata": {},
     "output_type": "execute_result"
    }
   ],
   "source": [
    "# Загрузим игрушечный датасет из sklearn\n",
    "iris = load_iris()\n",
    "X = iris.data\n",
    "X.shape"
   ]
  },
  {
   "cell_type": "code",
   "execution_count": 3,
   "id": "36423069",
   "metadata": {},
   "outputs": [],
   "source": [
    "# Для начала масштабируем выборку\n",
    "X_ = X.astype(float)\n",
    "\n",
    "rows, cols = X_.shape\n",
    "\n",
    "# центрирование — вычитание из каждого значения среднего по строке\n",
    "means = X_.mean(0)\n",
    "for i in range(rows):\n",
    "    for j in range(cols):\n",
    "        X_[i, j] -= means[j]\n",
    "\n",
    "# деление каждого значения на стандартное отклонение\n",
    "std = np.std(X_, axis=0)\n",
    "for i in range(cols):\n",
    "    for j in range(rows):\n",
    "        X_[j][i] /= std[i]"
   ]
  },
  {
   "cell_type": "code",
   "execution_count": 4,
   "id": "b0fbb7a1",
   "metadata": {},
   "outputs": [
    {
     "name": "stdout",
     "output_type": "stream",
     "text": [
      "Собственные значения в порядке убывания:\n",
      "(437.77467247979905, array([ 0.52106591, -0.26934744,  0.5804131 ,  0.56485654]))\n",
      "(137.1045707202107, array([-0.37741762, -0.92329566, -0.02449161, -0.06694199]))\n",
      "(22.01353133569719, array([-0.71956635,  0.24438178,  0.14212637,  0.63427274]))\n",
      "(3.107225464292897, array([ 0.26128628, -0.12350962, -0.80144925,  0.52359713]))\n"
     ]
    }
   ],
   "source": [
    "# Найдём собственные векторы и собственные значения (англ. Eigenvalues)\n",
    " \n",
    "covariance_matrix = X_.T.dot(X_)\n",
    "\n",
    "eig_values, eig_vectors = np.linalg.eig(covariance_matrix)\n",
    "\n",
    "# сформируем список кортежей (собственное значение, собственный вектор)\n",
    "eig_pairs = [(np.abs(eig_values[i]), eig_vectors[:, i]) for i in range(len(eig_values))]\n",
    "\n",
    "# и отсортируем список по убыванию собственных значений\n",
    "eig_pairs.sort(key=lambda x: x[0], reverse=True)\n",
    "\n",
    "print('Собственные значения в порядке убывания:')\n",
    "for i in eig_pairs:\n",
    "    print(i)"
   ]
  },
  {
   "cell_type": "code",
   "execution_count": 5,
   "id": "9bf46090",
   "metadata": {},
   "outputs": [
    {
     "name": "stdout",
     "output_type": "stream",
     "text": [
      "Доля дисперсии, описываемая каждой из компонент \n",
      "[72.96244541329986, 22.85076178670179, 3.668921889282866, 0.517870910715483]\n",
      "Кумулятивная доля дисперсии по компонентам \n",
      "[ 72.96244541  95.8132072   99.48212909 100.        ]\n"
     ]
    }
   ],
   "source": [
    "eig_sum = sum(eig_values)\n",
    "var_exp = [(i / eig_sum) * 100 for i in sorted(eig_values, reverse=True)]\n",
    "cum_var_exp = np.cumsum(var_exp)\n",
    "print(f'Доля дисперсии, описываемая каждой из компонент \\n{var_exp}')\n",
    "\n",
    "# а теперь оценим кумулятивную, то есть накапливаемую, дисперсию при учитывании каждой из компонент\n",
    "print(f'Кумулятивная доля дисперсии по компонентам \\n{cum_var_exp}')"
   ]
  },
  {
   "cell_type": "code",
   "execution_count": 6,
   "id": "485c9838",
   "metadata": {},
   "outputs": [
    {
     "name": "stdout",
     "output_type": "stream",
     "text": [
      "Матрица весов W:\n",
      " [[ 0.52106591 -0.37741762]\n",
      " [-0.26934744 -0.92329566]\n",
      " [ 0.5804131  -0.02449161]\n",
      " [ 0.56485654 -0.06694199]]\n"
     ]
    }
   ],
   "source": [
    "# Сформируем вектор весов из собственных векторов, соответствующих первым двум главным компонентам\n",
    "W = np.hstack((eig_pairs[0][1].reshape(4,1), eig_pairs[1][1].reshape(4,1)))\n",
    "\n",
    "print(f'Матрица весов W:\\n', W)"
   ]
  },
  {
   "cell_type": "code",
   "execution_count": 7,
   "id": "f8010d24",
   "metadata": {},
   "outputs": [],
   "source": [
    "# Сформируем новую матрицу «объекты-признаки»\n",
    "Z = X_.dot(W)"
   ]
  },
  {
   "cell_type": "code",
   "execution_count": 8,
   "id": "d7817592",
   "metadata": {},
   "outputs": [
    {
     "data": {
      "text/plain": [
       "(150, 2)"
      ]
     },
     "execution_count": 8,
     "metadata": {},
     "output_type": "execute_result"
    }
   ],
   "source": [
    "Z.shape"
   ]
  },
  {
   "cell_type": "code",
   "execution_count": 9,
   "id": "1fb4e52c",
   "metadata": {},
   "outputs": [
    {
     "data": {
      "image/png": "[encoded data removed]",
      "text/plain": [
       "<Figure size 432x288 with 1 Axes>"
      ]
     },
     "metadata": {
      "needs_background": "light"
     },
     "output_type": "display_data"
    }
   ],
   "source": [
    "plt.figure()\n",
    "y = iris.target\n",
    "for c, i in zip(\"rgb\", [0, 1, 2]):\n",
    "    plt.scatter(Z[y==i, 0], Z[y==i, 1], c=c)\n",
    "plt.xlabel('Главная компонента 1')\n",
    "plt.ylabel('Главная компонента 2')\n",
    "plt.title('PCA датасета IRIS')\n",
    "plt.show()"
   ]
  },
  {
   "cell_type": "code",
   "execution_count": 10,
   "id": "9c3cdbb0",
   "metadata": {},
   "outputs": [],
   "source": [
    "def PCA_as_SVD(arr, m):\n",
    "    arr_ = arr.astype(float)\n",
    "    rows, cols = arr_.shape\n",
    "\n",
    "    means = arr_.mean(0)\n",
    "    for i in range(rows):\n",
    "        for j in range(cols):\n",
    "            arr_[i, j] -= means[j]\n",
    "\n",
    "    std = np.std(arr_, axis=0)\n",
    "    for i in range(cols):\n",
    "        for j in range(rows):\n",
    "            arr_[j][i] /= std[i]\n",
    "    \n",
    "    u, s, vh = np.linalg.svd(arr_)\n",
    "    V = np.transpose(vh)\n",
    "    W = V[:, :m]\n",
    "    Z = arr_ @ W\n",
    "    \n",
    "    return Z"
   ]
  },
  {
   "cell_type": "code",
   "execution_count": 11,
   "id": "bca12820",
   "metadata": {},
   "outputs": [
    {
     "data": {
      "text/plain": [
       "True"
      ]
     },
     "execution_count": 11,
     "metadata": {},
     "output_type": "execute_result"
    }
   ],
   "source": [
    "Z_1 = PCA_as_SVD(X, 2)\n",
    "np.allclose(Z, Z_1)"
   ]
  },
  {
   "cell_type": "code",
   "execution_count": 12,
   "id": "9474029c",
   "metadata": {},
   "outputs": [],
   "source": [
    "def e_metrics(x1, x2):\n",
    "    \n",
    "    distance = 0\n",
    "    for i in range(len(x1)):\n",
    "        distance += np.square(x1[i] - x2[i])\n",
    "      \n",
    "    return np.sqrt(distance)"
   ]
  },
  {
   "cell_type": "code",
   "execution_count": 13,
   "id": "eec774ca",
   "metadata": {},
   "outputs": [],
   "source": [
    "def knn(x_train, y_train, x_test, k):\n",
    "    \n",
    "    answers = []\n",
    "    \n",
    "    for x in x_test:\n",
    "        test_distances = []\n",
    "            \n",
    "        for i in range(len(x_train)):\n",
    "            \n",
    "            # расчет расстояния от классифицируемого объекта до\n",
    "            # объекта обучающей выборки\n",
    "            distance = e_metrics(x, x_train[i])\n",
    "            \n",
    "            # Записываем в список значение расстояния и ответа на объекте обучающей выборки\n",
    "            test_distances.append((distance, y_train[i]))\n",
    "        \n",
    "        # создаем словарь со всеми возможными классами\n",
    "        classes = {class_item: 0 for class_item in set(y_train)}\n",
    "        \n",
    "        # Сортируем список и среди первых k элементов подсчитаем частоту появления разных классов\n",
    "        for d in sorted(test_distances)[0:k]:\n",
    "            classes[d[1]] += 1\n",
    "            \n",
    "        # Записываем в список ответов наиболее часто встречающийся класс\n",
    "        answers.append(sorted(classes, key=classes.get)[-1])\n",
    "    return answers"
   ]
  },
  {
   "cell_type": "code",
   "execution_count": 14,
   "id": "84150d94",
   "metadata": {},
   "outputs": [],
   "source": [
    "def knn_weighted(x_train, y_train, x_test, k):\n",
    "\n",
    "    answers = []\n",
    "    q = 0.02\n",
    "    \n",
    "    for x in x_test:\n",
    "        test_distances = []\n",
    "            \n",
    "        for i in range(len(x_train)):\n",
    "            \n",
    "            distance = e_metrics(x, x_train[i])\n",
    "            test_distances.append((distance, y_train[i]))\n",
    "        \n",
    "        classes = {class_item: 0 for class_item in set(y_train)}\n",
    "       \n",
    "        for d in sorted(test_distances)[0:k]:\n",
    "            weight = q**d[0]\n",
    "            classes[d[1]] += weight\n",
    "            \n",
    "        # Записываем в список ответов наибольшее расстояние\n",
    "        answers.append(sorted(classes, key=classes.get)[-1])\n",
    "    return answers"
   ]
  },
  {
   "cell_type": "code",
   "execution_count": 15,
   "id": "0004f49d",
   "metadata": {},
   "outputs": [],
   "source": [
    "def accuracy(pred, y):\n",
    "    return (sum(pred == y) / len(y))"
   ]
  },
  {
   "cell_type": "code",
   "execution_count": 16,
   "id": "3369b390",
   "metadata": {},
   "outputs": [],
   "source": [
    "X = iris.data[:, :2]\n",
    "y = iris.target"
   ]
  },
  {
   "cell_type": "code",
   "execution_count": 17,
   "id": "d9c36c42",
   "metadata": {},
   "outputs": [],
   "source": [
    "X_train, X_test, y_train, y_test = model_selection.train_test_split(X, y, test_size=0.2, random_state=1)"
   ]
  },
  {
   "cell_type": "code",
   "execution_count": 18,
   "id": "39e4e645",
   "metadata": {},
   "outputs": [
    {
     "name": "stdout",
     "output_type": "stream",
     "text": [
      "Точность алгоритма при k = 1: 0.667\n",
      "Точность алгоритма с учетом весов при k = 1: 0.667\n",
      "Точность алгоритма при k = 2: 0.667\n",
      "Точность алгоритма с учетом весов при k = 2: 0.733\n",
      "Точность алгоритма при k = 3: 0.733\n",
      "Точность алгоритма с учетом весов при k = 3: 0.733\n",
      "Точность алгоритма при k = 4: 0.833\n",
      "Точность алгоритма с учетом весов при k = 4: 0.767\n",
      "Точность алгоритма при k = 5: 0.867\n",
      "Точность алгоритма с учетом весов при k = 5: 0.833\n",
      "Точность алгоритма при k = 6: 0.833\n",
      "Точность алгоритма с учетом весов при k = 6: 0.867\n",
      "Точность алгоритма при k = 7: 0.800\n",
      "Точность алгоритма с учетом весов при k = 7: 0.767\n",
      "Точность алгоритма при k = 8: 0.800\n",
      "Точность алгоритма с учетом весов при k = 8: 0.833\n",
      "Точность алгоритма при k = 9: 0.867\n",
      "Точность алгоритма с учетом весов при k = 9: 0.867\n",
      "Точность алгоритма при k = 10: 0.833\n",
      "Точность алгоритма с учетом весов при k = 10: 0.867\n"
     ]
    }
   ],
   "source": [
    "accuracy_measure = []\n",
    "accuracy_measure_weighted = []\n",
    "\n",
    "for k in range(1, 11):\n",
    "    y_pred = knn(X_train, y_train, X_test, k)\n",
    "    y_pred_2 = knn_weighted(X_train, y_train, X_test, k)\n",
    "    accuracy_measure.append(accuracy(y_pred, y_test))\n",
    "    accuracy_measure_weighted.append(accuracy(y_pred_2, y_test))\n",
    "\n",
    "    print(f'Точность алгоритма при k = {k}: {accuracy(y_pred, y_test):.3f}')\n",
    "    print(f'Точность алгоритма с учетом весов при k = {k}: {accuracy(y_pred_2, y_test):.3f}')"
   ]
  },
  {
   "cell_type": "code",
   "execution_count": 19,
   "id": "15175e24",
   "metadata": {},
   "outputs": [],
   "source": [
    "Z_train, Z_test, y_train, y_test = model_selection.train_test_split(Z, y, test_size=0.2, random_state=1)"
   ]
  },
  {
   "cell_type": "code",
   "execution_count": 22,
   "id": "6ad188fb",
   "metadata": {},
   "outputs": [
    {
     "name": "stdout",
     "output_type": "stream",
     "text": [
      "Точность алгоритма с применением PCA при k = 1: 0.933\n",
      "Точность алгоритма с применением PCA с учетом весов при k = 1: 0.933\n",
      "Точность алгоритма с применением PCA при k = 2: 0.967\n",
      "Точность алгоритма с применением PCA с учетом весов при k = 2: 0.933\n",
      "Точность алгоритма с применением PCA при k = 3: 0.967\n",
      "Точность алгоритма с применением PCA с учетом весов при k = 3: 0.967\n",
      "Точность алгоритма с применением PCA при k = 4: 0.933\n",
      "Точность алгоритма с применением PCA с учетом весов при k = 4: 0.967\n",
      "Точность алгоритма с применением PCA при k = 5: 0.967\n",
      "Точность алгоритма с применением PCA с учетом весов при k = 5: 0.967\n",
      "Точность алгоритма с применением PCA при k = 6: 0.933\n",
      "Точность алгоритма с применением PCA с учетом весов при k = 6: 0.967\n",
      "Точность алгоритма с применением PCA при k = 7: 0.967\n",
      "Точность алгоритма с применением PCA с учетом весов при k = 7: 0.967\n",
      "Точность алгоритма с применением PCA при k = 8: 0.967\n",
      "Точность алгоритма с применением PCA с учетом весов при k = 8: 0.967\n",
      "Точность алгоритма с применением PCA при k = 9: 0.967\n",
      "Точность алгоритма с применением PCA с учетом весов при k = 9: 0.967\n",
      "Точность алгоритма с применением PCA при k = 10: 0.967\n",
      "Точность алгоритма с применением PCA с учетом весов при k = 10: 0.967\n"
     ]
    }
   ],
   "source": [
    "accuracy_measure_Z = []\n",
    "accuracy_measure_weighted_Z = []\n",
    "\n",
    "for k in range(1, 11):\n",
    "    y_pred_Z = knn(Z_train, y_train, Z_test, k)\n",
    "    y_pred_Z_2 = knn_weighted(Z_train, y_train, Z_test, k)\n",
    "    accuracy_measure_Z.append(accuracy(y_pred_Z, y_test))\n",
    "    accuracy_measure_weighted_Z.append(accuracy(y_pred_Z_2, y_test))\n",
    "\n",
    "    print(f'Точность алгоритма с применением PCA при k = {k}: {accuracy(y_pred_Z, y_test):.3f}')\n",
    "    print(f'Точность алгоритма с применением PCA с учетом весов при k = {k}: {accuracy(y_pred_Z_2, y_test):.3f}')"
   ]
  },
  {
   "cell_type": "code",
   "execution_count": 21,
   "id": "9b40b70a",
   "metadata": {},
   "outputs": [
    {
     "data": {
      "text/plain": [
       "<matplotlib.legend.Legend at 0x176b92b4340>"
      ]
     },
     "execution_count": 21,
     "metadata": {},
     "output_type": "execute_result"
    },
    {
     "data": {
      "image/png": "[encoded data removed]",
      "text/plain": [
       "<Figure size 432x288 with 1 Axes>"
      ]
     },
     "metadata": {
      "needs_background": "light"
     },
     "output_type": "display_data"
    }
   ],
   "source": [
    "plt.plot(range(1, 11), accuracy_measure, label='Accuracy')\n",
    "plt.plot(range(1, 11), accuracy_measure_weighted, label='Accuracy based on weights')\n",
    "plt.plot(range(1, 11), accuracy_measure_Z, label='Accuracy using PCA')\n",
    "plt.plot(range(1, 11), accuracy_measure_weighted_Z, label='Accuracy using PCA based on weights')\n",
    "plt.title('KNN accuracy')\n",
    "plt.xlabel('k')\n",
    "plt.ylabel('Accuracy')\n",
    "plt.legend()"
   ]
  }
 ],
 "metadata": {
  "kernelspec": {
   "display_name": "Python 3",
   "language": "python",
   "name": "python3"
  },
  "language_info": {
   "codemirror_mode": {
    "name": "ipython",
    "version": 3
   },
   "file_extension": ".py",
   "mimetype": "text/x-python",
   "name": "python",
   "nbconvert_exporter": "python",
   "pygments_lexer": "ipython3",
   "version": "3.8.8"
  }
 },
 "nbformat": 4,
 "nbformat_minor": 5
}
