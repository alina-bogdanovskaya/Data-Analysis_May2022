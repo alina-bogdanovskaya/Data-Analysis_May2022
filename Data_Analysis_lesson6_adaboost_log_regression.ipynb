{
  "nbformat": 4,
  "nbformat_minor": 0,
  "metadata": {
    "colab": {
      "name": "Data Analysis_lesson6_adaboost log regression.ipynb",
      "provenance": [],
      "collapsed_sections": [],
      "authorship_tag": "ABX9TyPjkE6598Z0TdnjHdfhEEaY",
      "include_colab_link": true
    },
    "kernelspec": {
      "name": "python3",
      "display_name": "Python 3"
    },
    "language_info": {
      "name": "python"
    }
  },
  "cells": [
    {
      "cell_type": "markdown",
      "metadata": {
        "id": "view-in-github",
        "colab_type": "text"
      },
      "source": [
        "<a href=\"https://colab.research.google.com/github/alina-bogdanovskaya/Data-Analysis_May2022/blob/lesson6/Data_Analysis_lesson6_adaboost_log_regression.ipynb\" target=\"_parent\"><img src=\"https://colab.research.google.com/assets/colab-badge.svg\" alt=\"Open In Colab\"/></a>"
      ]
    },
    {
      "cell_type": "code",
      "source": [
        "%matplotlib inline\n",
        "import numpy as np\n",
        "from sklearn.linear_model import LogisticRegression\n",
        "from sklearn.tree import DecisionTreeClassifier\n",
        "from sklearn import datasets\n",
        "from sklearn.datasets import load_breast_cancer\n",
        "from sklearn import model_selection\n",
        "from matplotlib.colors import ListedColormap\n",
        "import matplotlib.pyplot as plt"
      ],
      "metadata": {
        "id": "3qJu2Ic4zCBs"
      },
      "execution_count": 31,
      "outputs": []
    },
    {
      "cell_type": "code",
      "source": [
        "X, y = load_breast_cancer(return_X_y=True)"
      ],
      "metadata": {
        "id": "r5N-z71C1Ibo"
      },
      "execution_count": 32,
      "outputs": []
    },
    {
      "cell_type": "code",
      "source": [
        "X_train, X_test, y_train, y_test = model_selection.train_test_split(X, y, test_size=0.25, random_state=34)"
      ],
      "metadata": {
        "id": "ym33cmy0oBcv"
      },
      "execution_count": 33,
      "outputs": []
    },
    {
      "cell_type": "code",
      "source": [
        "def get_error(pred, y):\n",
        "    return sum(pred != y) / len(y)"
      ],
      "metadata": {
        "id": "JckN5QTj_sR7"
      },
      "execution_count": 34,
      "outputs": []
    },
    {
      "cell_type": "code",
      "execution_count": 35,
      "metadata": {
        "id": "gIEnjsihyf2d"
      },
      "outputs": [],
      "source": [
        "def log_loss(pred, y):\n",
        "  return -np.sum(y * np.log2(pred) + (1 - y) * np.log2(1 - pred))/len(y)"
      ]
    },
    {
      "cell_type": "code",
      "source": [
        "def adaboost_decision_tree(X, y, N):\n",
        "\n",
        "    # Размер выборки\n",
        "    n_objects = len(X)\n",
        "\n",
        "    # Запишем количество классов в переменную\n",
        "    n_classes = len(np.unique((y)))\n",
        "\n",
        "    # Начальные веса деревьев\n",
        "    w = np.ones(n_objects) / n_objects\n",
        "\n",
        "    # Деревья с весами будем записывать в список\n",
        "    models = []\n",
        "\n",
        "    for n in range(N):\n",
        "        # Зададим дерево и обучим его\n",
        "        clf = DecisionTreeClassifier(max_depth=1)\n",
        "        clf.fit(X, y, sample_weight=w)\n",
        "\n",
        "        predictions = clf.predict(X)\n",
        "        e = get_error(predictions, y)\n",
        "        # отбросим дерево, если его ошибка больше 0.5\n",
        "        # Запишем условие в общем виде (применимо к небинарным классификаторам)\n",
        "        if e >= 1 - 1/n_classes: \n",
        "            break\n",
        "\n",
        "        # Вычислим вес для дерева\n",
        "        alpha = 0.5 * np.log((1 - e) / e)\n",
        "\n",
        "        # Найдем индексы правильно классифицированных элементов\n",
        "        match = predictions == y\n",
        "\n",
        "        # Увеличим веса для неправильно классифицированных элементов\n",
        "        w[~match] *= np.exp(alpha)\n",
        "\n",
        "        # Нормализуем веса\n",
        "        w /= w.sum()\n",
        "\n",
        "        # Добавим дерево с весом в список\n",
        "        models.append((alpha, clf))\n",
        "    \n",
        "    return models"
      ],
      "metadata": {
        "id": "erskTjmp_Opm"
      },
      "execution_count": 36,
      "outputs": []
    },
    {
      "cell_type": "code",
      "source": [
        "def adaboost_log_regression(X, y, N):\n",
        "\n",
        "    # Размер выборки\n",
        "    n_objects = len(X)\n",
        "\n",
        "    # Запишем количество классов в переменную\n",
        "    n_classes = len(np.unique((y)))\n",
        "    \n",
        "    # Зададим порог вероятности\n",
        "    thr = 0.5\n",
        "\n",
        "    # Начальные веса моделей\n",
        "    w = np.ones(n_objects) / n_objects\n",
        "\n",
        "    # Модели с весами будем записывать в список\n",
        "    models = []\n",
        "\n",
        "    for n in range(N):\n",
        "        # Зададим модель и обучим ее\n",
        "        clf = LogisticRegression(max_iter=10000)\n",
        "        clf.fit(X, y, sample_weight=w)\n",
        "        \n",
        "        probability = clf.predict_proba(X)[:, 1]\n",
        "        err = log_loss(probability, y)\n",
        "        # отбросим модель, если ее ошибка больше 0.5\n",
        "        # Запишем условие в общем виде (применимо к небинарным классификаторам)\n",
        "        if err >= 1 - 1/n_classes: \n",
        "            break\n",
        "\n",
        "        # Вычислим вес для модели\n",
        "        alpha = 0.5 * np.log((1 - err) / err)\n",
        "\n",
        "        # Найдем индексы правильно классифицированных элементов\n",
        "        match = (probability > 0.5) == y\n",
        "\n",
        "        # Увеличим веса для неправильно классифицированных элементов\n",
        "        w[~match] *= np.exp(alpha)\n",
        "\n",
        "        # Нормализуем веса\n",
        "        w /= w.sum()\n",
        "\n",
        "        # Добавим модель с весом в список\n",
        "        models.append((alpha, clf))\n",
        "    \n",
        "    return models"
      ],
      "metadata": {
        "id": "WyDxrRGmORCY"
      },
      "execution_count": 37,
      "outputs": []
    },
    {
      "cell_type": "code",
      "source": [
        "N = 50\n",
        "\n",
        "trees = adaboost_decision_tree(X_train, y_train, N)\n",
        "models = adaboost_log_regression(X_train, y_train, N)"
      ],
      "metadata": {
        "id": "-XczMRBnOHTS"
      },
      "execution_count": 38,
      "outputs": []
    },
    {
      "cell_type": "code",
      "source": [
        "def predict(X, models):\n",
        "    \n",
        "    n_classes = 2\n",
        "    n_objects = len(X)\n",
        "    \n",
        "    y_pred = np.zeros((n_objects, n_classes))\n",
        "    \n",
        "    for alpha, clf in models:\n",
        "        prediction = clf.predict(X)\n",
        "        y_pred[range(n_objects), prediction] += alpha\n",
        "    \n",
        "    y_pred = np.argmax(y_pred, axis=1)\n",
        "    \n",
        "    return y_pred"
      ],
      "metadata": {
        "id": "rgsgxETFOIUi"
      },
      "execution_count": 39,
      "outputs": []
    },
    {
      "cell_type": "code",
      "source": [
        "def predict_log_regression(X, models):\n",
        "    \n",
        "    n_objects = len(X)\n",
        "    y_pred = np.zeros(n_objects)\n",
        "    \n",
        "    for alpha, clf in models:\n",
        "        mod_score = clf.decision_function(X)\n",
        "        y_pred += alpha*mod_score\n",
        "        # print(y_pred[130], alpha, mod_score[130])\n",
        "    \n",
        "    y_pred[y_pred < 0]=0\n",
        "    y_pred[y_pred > 0]=1\n",
        "    # print(y_pred[130])\n",
        "    \n",
        "    return y_pred"
      ],
      "metadata": {
        "id": "rxi7AE5mOxFh"
      },
      "execution_count": 40,
      "outputs": []
    },
    {
      "cell_type": "code",
      "source": [
        "print(f'Точность алгоритма на обучающей выборке для деревьев решений: {(1 - get_error(predict(X_train, trees), y_train)) * 100:.3f}%')\n",
        "print(f'Точность алгоритма на тестовой выборке для деревьев решений: {(1 - get_error(predict(X_test, trees), y_test)) * 100:.3f}%')"
      ],
      "metadata": {
        "colab": {
          "base_uri": "https://localhost:8080/"
        },
        "id": "-fBZF3DVPHRY",
        "outputId": "1838516e-3f6f-4031-b989-23ac25c80e3d"
      },
      "execution_count": 41,
      "outputs": [
        {
          "output_type": "stream",
          "name": "stdout",
          "text": [
            "Точность алгоритма на обучающей выборке для деревьев решений: 97.653%\n",
            "Точность алгоритма на тестовой выборке для деревьев решений: 95.105%\n"
          ]
        }
      ]
    },
    {
      "cell_type": "code",
      "source": [
        "print(f'Точность алгоритма на обучающей выборке для логистичесской регрессии: {(1 - get_error(predict(X_train, models), y_train)) * 100:.3f}%')\n",
        "print(f'Точность алгоритма на тестовой выборке для логистичесской регрессии: {(1 - get_error(predict(X_test, models), y_test)) * 100:.3f}%')"
      ],
      "metadata": {
        "colab": {
          "base_uri": "https://localhost:8080/"
        },
        "id": "cB8QbmTpPJIO",
        "outputId": "d96bf048-5961-4192-ca31-3c7f095dccbb"
      },
      "execution_count": 42,
      "outputs": [
        {
          "output_type": "stream",
          "name": "stdout",
          "text": [
            "Точность алгоритма на обучающей выборке для логистичесской регрессии: 93.897%\n",
            "Точность алгоритма на тестовой выборке для логистичесской регрессии: 96.503%\n"
          ]
        }
      ]
    },
    {
      "cell_type": "code",
      "source": [
        "print(f'Точность алгоритма на обучающей выборке для логистичесской регрессии с учетом score: {(1 - get_error(predict_log_regression(X_train, models), y_train)) * 100:.3f}%')\n",
        "print(f'Точность алгоритма на тестовой выборке для логистичесской регрессии с учетом score: {(1 - get_error(predict_log_regression(X_test, models), y_test)) * 100:.3f}%')"
      ],
      "metadata": {
        "colab": {
          "base_uri": "https://localhost:8080/"
        },
        "id": "WW0DdKS_PMMS",
        "outputId": "4fe5b355-a399-4233-c0ce-1f7e23e88066"
      },
      "execution_count": 43,
      "outputs": [
        {
          "output_type": "stream",
          "name": "stdout",
          "text": [
            "Точность алгоритма на обучающей выборке для логистичесской регрессии с учетом score: 93.662%\n",
            "Точность алгоритма на тестовой выборке для логистичесской регрессии с учетом score: 95.804%\n"
          ]
        }
      ]
    },
    {
      "cell_type": "code",
      "source": [
        "train_errors_trees = []\n",
        "test_errors_trees = []\n",
        "\n",
        "for n in range(1, 21):\n",
        "    mods = adaboost_decision_tree(X_train, y_train, n)\n",
        "    train_errors_trees.append(get_error(predict(X_train, mods), y_train))\n",
        "    test_errors_trees.append(get_error(predict(X_test, mods), y_test))"
      ],
      "metadata": {
        "id": "yMqlosvtpFnq"
      },
      "execution_count": 44,
      "outputs": []
    },
    {
      "cell_type": "code",
      "source": [
        "train_errors_log_regression = []\n",
        "test_errors_log_regression = []\n",
        "\n",
        "for n in range(1, 21):\n",
        "    mods = adaboost_log_regression(X_train, y_train, n)\n",
        "    train_errors_log_regression.append(get_error(predict(X_train, mods), y_train))\n",
        "    test_errors_log_regression.append(get_error(predict(X_test, mods), y_test))"
      ],
      "metadata": {
        "id": "eRBiuSP_pJWQ"
      },
      "execution_count": 45,
      "outputs": []
    },
    {
      "cell_type": "code",
      "source": [
        "train_errors_log_regression_with_score = []\n",
        "test_errors_log_regression_with_score = []\n",
        "\n",
        "for n in range(1, 21):\n",
        "    mods = adaboost_log_regression(X_train, y_train, n)\n",
        "    train_errors_log_regression_with_score.append(get_error(predict_log_regression(X_train, mods), y_train))\n",
        "    test_errors_log_regression_with_score.append(get_error(predict_log_regression(X_test, mods), y_test))"
      ],
      "metadata": {
        "id": "2kSlXcNupZfO"
      },
      "execution_count": 46,
      "outputs": []
    },
    {
      "cell_type": "code",
      "source": [
        "x = list(range(1, 21))\n",
        "\n",
        "plt.figure(figsize=(15, 10))\n",
        "plt.plot(x, train_errors_trees, label='train errors_trees')\n",
        "plt.plot(x, test_errors_trees, label='test errors_trees')\n",
        "plt.plot(x, train_errors_log_regression, label='train errors_log regression')\n",
        "plt.plot(x, test_errors_log_regression, label='test errors_log regression')\n",
        "plt.plot(x, train_errors_log_regression_with_score, label='train errors_log regression with score')\n",
        "plt.plot(x, test_errors_log_regression_with_score, label='test errors_log regression with score')\n",
        "plt.xlabel('N')\n",
        "plt.ylabel('Error')\n",
        "plt.legend(loc='upper right')"
      ],
      "metadata": {
        "colab": {
          "base_uri": "https://localhost:8080/",
          "height": 623
        },
        "id": "4n1tWd_eqROe",
        "outputId": "1a25a778-6215-4e8e-dfd7-6bf0bafab6a6"
      },
      "execution_count": 47,
      "outputs": [
        {
          "output_type": "execute_result",
          "data": {
            "text/plain": [
              "<matplotlib.legend.Legend at 0x7fdebea77f10>"
            ]
          },
          "metadata": {},
          "execution_count": 47
        },
        {
          "output_type": "display_data",
          "data": {
            "text/plain": [
              "<Figure size 1080x720 with 1 Axes>"
            ],
            "image/png": "[encoded data removed]"
          },
          "metadata": {
            "needs_background": "light"
          }
        }
      ]
    },
    {
      "cell_type": "code",
      "source": [
        "log_regression_answers_test = predict(X_test, models)\n",
        "a = np.equal(y_test, log_regression_answers_test)\n",
        "a"
      ],
      "metadata": {
        "colab": {
          "base_uri": "https://localhost:8080/"
        },
        "id": "jl2K3yVHsO3x",
        "outputId": "6abf382b-02de-4623-c1a9-3905c804ee1e"
      },
      "execution_count": 48,
      "outputs": [
        {
          "output_type": "execute_result",
          "data": {
            "text/plain": [
              "array([ True,  True,  True,  True,  True,  True,  True,  True,  True,\n",
              "        True,  True,  True,  True,  True,  True,  True,  True,  True,\n",
              "        True,  True,  True,  True,  True,  True,  True,  True,  True,\n",
              "        True,  True,  True,  True,  True,  True, False,  True,  True,\n",
              "        True,  True,  True,  True,  True,  True,  True, False,  True,\n",
              "        True,  True,  True,  True,  True, False,  True,  True,  True,\n",
              "        True,  True,  True,  True,  True,  True,  True,  True, False,\n",
              "        True,  True,  True,  True,  True,  True,  True,  True,  True,\n",
              "        True,  True,  True,  True,  True, False,  True,  True,  True,\n",
              "        True,  True,  True,  True,  True,  True,  True,  True,  True,\n",
              "        True,  True,  True,  True,  True,  True,  True,  True,  True,\n",
              "        True,  True,  True,  True,  True,  True,  True,  True,  True,\n",
              "        True,  True,  True,  True,  True,  True,  True,  True,  True,\n",
              "        True,  True,  True,  True,  True,  True,  True,  True,  True,\n",
              "        True,  True,  True,  True,  True,  True,  True,  True,  True,\n",
              "        True,  True,  True,  True,  True,  True,  True,  True])"
            ]
          },
          "metadata": {},
          "execution_count": 48
        }
      ]
    },
    {
      "cell_type": "code",
      "source": [
        "log_regression_answers_test_with_score = predict_log_regression(X_test, models)\n",
        "b = np.equal(y_test, log_regression_answers_test_with_score)\n",
        "b"
      ],
      "metadata": {
        "colab": {
          "base_uri": "https://localhost:8080/"
        },
        "id": "6jdWnO23ssI5",
        "outputId": "a17063cc-e646-4334-f1f2-a9c916e56503"
      },
      "execution_count": 49,
      "outputs": [
        {
          "output_type": "execute_result",
          "data": {
            "text/plain": [
              "array([ True,  True,  True,  True,  True,  True,  True,  True,  True,\n",
              "        True,  True,  True,  True,  True,  True,  True,  True,  True,\n",
              "        True,  True,  True,  True,  True,  True,  True,  True,  True,\n",
              "        True,  True,  True,  True,  True,  True, False,  True,  True,\n",
              "        True,  True,  True,  True,  True,  True,  True, False,  True,\n",
              "        True,  True,  True,  True,  True, False,  True,  True,  True,\n",
              "        True,  True,  True,  True,  True,  True,  True,  True, False,\n",
              "        True,  True,  True,  True,  True,  True,  True,  True,  True,\n",
              "        True,  True,  True,  True,  True, False,  True,  True,  True,\n",
              "        True,  True,  True,  True,  True,  True,  True,  True,  True,\n",
              "        True,  True,  True,  True,  True,  True,  True,  True,  True,\n",
              "        True,  True,  True,  True,  True,  True,  True,  True,  True,\n",
              "        True,  True,  True,  True,  True,  True,  True,  True,  True,\n",
              "        True,  True,  True,  True,  True,  True,  True,  True,  True,\n",
              "        True,  True,  True,  True, False,  True,  True,  True,  True,\n",
              "        True,  True,  True,  True,  True,  True,  True,  True])"
            ]
          },
          "metadata": {},
          "execution_count": 49
        }
      ]
    },
    {
      "cell_type": "code",
      "source": [
        "c = np.logical_xor(a, b)\n",
        "c"
      ],
      "metadata": {
        "colab": {
          "base_uri": "https://localhost:8080/"
        },
        "id": "yqkzIYOzsdlE",
        "outputId": "e49b178d-bd16-42ee-905a-2725b710b152"
      },
      "execution_count": 50,
      "outputs": [
        {
          "output_type": "execute_result",
          "data": {
            "text/plain": [
              "array([False, False, False, False, False, False, False, False, False,\n",
              "       False, False, False, False, False, False, False, False, False,\n",
              "       False, False, False, False, False, False, False, False, False,\n",
              "       False, False, False, False, False, False, False, False, False,\n",
              "       False, False, False, False, False, False, False, False, False,\n",
              "       False, False, False, False, False, False, False, False, False,\n",
              "       False, False, False, False, False, False, False, False, False,\n",
              "       False, False, False, False, False, False, False, False, False,\n",
              "       False, False, False, False, False, False, False, False, False,\n",
              "       False, False, False, False, False, False, False, False, False,\n",
              "       False, False, False, False, False, False, False, False, False,\n",
              "       False, False, False, False, False, False, False, False, False,\n",
              "       False, False, False, False, False, False, False, False, False,\n",
              "       False, False, False, False, False, False, False, False, False,\n",
              "       False, False, False, False,  True, False, False, False, False,\n",
              "       False, False, False, False, False, False, False, False])"
            ]
          },
          "metadata": {},
          "execution_count": 50
        }
      ]
    },
    {
      "cell_type": "code",
      "source": [
        "np.where(c)[0]"
      ],
      "metadata": {
        "colab": {
          "base_uri": "https://localhost:8080/"
        },
        "id": "dinxKPsktFF3",
        "outputId": "b9acc165-f752-447f-875d-6d39e07b6b41"
      },
      "execution_count": 51,
      "outputs": [
        {
          "output_type": "execute_result",
          "data": {
            "text/plain": [
              "array([130])"
            ]
          },
          "metadata": {},
          "execution_count": 51
        }
      ]
    }
  ]
}