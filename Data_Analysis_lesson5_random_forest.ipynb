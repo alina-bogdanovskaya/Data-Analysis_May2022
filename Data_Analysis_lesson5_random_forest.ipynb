{
  "nbformat": 4,
  "nbformat_minor": 0,
  "metadata": {
    "colab": {
      "name": "Data Analysis_lesson5_random forest.ipynb",
      "provenance": [],
      "authorship_tag": "ABX9TyOSqv9Pexg7COucvipEcKkB",
      "include_colab_link": true
    },
    "kernelspec": {
      "name": "python3",
      "display_name": "Python 3"
    },
    "language_info": {
      "name": "python"
    }
  },
  "cells": [
    {
      "cell_type": "markdown",
      "metadata": {
        "id": "view-in-github",
        "colab_type": "text"
      },
      "source": [
        "<a href=\"https://colab.research.google.com/github/alina-bogdanovskaya/Data-Analysis_May2022/blob/lesson5/Data_Analysis_lesson5_random_forest.ipynb\" target=\"_parent\"><img src=\"https://colab.research.google.com/assets/colab-badge.svg\" alt=\"Open In Colab\"/></a>"
      ]
    },
    {
      "cell_type": "code",
      "source": [
        "%matplotlib inline\n",
        "import matplotlib.pyplot as plt\n",
        "import random\n",
        "from matplotlib.colors import ListedColormap\n",
        "from sklearn import datasets\n",
        "from collections import Counter\n",
        "import numpy as np\n",
        "from sklearn import model_selection"
      ],
      "metadata": {
        "id": "CQqpy3brCq1y"
      },
      "execution_count": 200,
      "outputs": []
    },
    {
      "cell_type": "code",
      "source": [
        "class Node:\n",
        "  def __init__(self, index, t, true_branch, false_branch):\n",
        "    self.index = index\n",
        "    self.t = t \n",
        "    self.true_branch = true_branch \n",
        "    self.false_branch = false_branch \n",
        "\n",
        "  def __str__(self):\n",
        "    return f'Индекс: {self.index},\\\\n порог: {self.t}'\n",
        "\n",
        "  def __repr__(self):\n",
        "    return f'Индекс: {self.index},\\\\n порог: {self.t}'\n",
        "        \n",
        "class Leaf:\n",
        "  def __init__(self, data, labels):\n",
        "    self.data = data\n",
        "    self.labels = labels\n",
        "    self.classes = Counter(self.labels)\n",
        "    self.prediction = self.predict()\n",
        "    self.prob_class1 = self.classes[1]/len(self.labels)\n",
        "        \n",
        "  def predict(self):\n",
        "    prediction = self.classes.most_common()[0][0]\n",
        "    return prediction\n",
        "\n",
        "  def __str__(self):\n",
        "    return f'Класс: {self.predict()}, \\\\n объектов класса 0: {self.classes[0]}, \\\\n объектов класса 1: {self.classes[1]}'\n",
        "\n",
        "  def __repr__(self):\n",
        "    return f'Класс: {self.predict()}, \\\\n объектов класса 0: {self.classes[0]}, \\\\n объектов класса 1: {self.classes[1]}'  \n"
      ],
      "metadata": {
        "id": "hHYlR14RKKU8"
      },
      "execution_count": 201,
      "outputs": []
    },
    {
      "cell_type": "code",
      "source": [
        "def gini(labels):\n",
        "  classes = {}\n",
        "  for label in labels:\n",
        "    if label not in classes:\n",
        "      classes[label] = 0\n",
        "    classes[label] += 1\n",
        "\n",
        "  impurity = 1\n",
        "  for label in classes:\n",
        "    p = classes[label] / len(labels)\n",
        "    impurity -= p ** 2\n",
        "        \n",
        "  return impurity\n",
        "\n",
        "\n",
        "def quality(left_labels, right_labels, current_gini):\n",
        "  p = float(left_labels.shape[0]) / (left_labels.shape[0] + right_labels.shape[0])\n",
        "  return current_gini - p * gini(left_labels) - (1 - p) * gini(right_labels)\n",
        "\n",
        "\n",
        "def split(data, labels, index, t):\n",
        "  left = np.where(data[:, index] <= t)\n",
        "  right = np.where(data[:, index] > t)\n",
        "  true_data = data[left]\n",
        "  false_data = data[right]\n",
        "  true_labels = labels[left]\n",
        "  false_labels = labels[right]\n",
        "  return true_data, false_data, true_labels, false_labels\n",
        "\n",
        "\n",
        "def get_subsample(len_sample):\n",
        "  sample_indexes = [i for i in range(len_sample)]\n",
        "  len_subsample = int(np.sqrt(len_sample))\n",
        "  subsample = []\n",
        "  random.shuffle(sample_indexes)\n",
        "  for _ in range(len_subsample):\n",
        "    subsample.append(sample_indexes.pop())\n",
        "  return subsample\n",
        "\n",
        "\n",
        "def find_best_split(data, labels):\n",
        "  min_leaf = 1\n",
        "  current_gini = gini(labels)\n",
        "  best_quality = 0\n",
        "  best_t = None\n",
        "  best_index = None\n",
        "  n_features = data.shape[1]\n",
        "    \n",
        "  subsample = get_subsample(n_features)\n",
        "  for index in subsample:\n",
        "    t_values = np.unique([row[index] for row in data])\n",
        "        \n",
        "    for t in t_values:\n",
        "      true_data, false_data, true_labels, false_labels = split(data, labels, index, t)\n",
        "      if len(true_data) < min_leaf or len(false_data) < min_leaf:\n",
        "        continue\n",
        "            \n",
        "      current_quality = quality(true_labels, false_labels, current_gini)\n",
        "      if current_quality > best_quality:\n",
        "        best_quality, best_t, best_index = current_quality, t, index\n",
        "\n",
        "  return best_quality, best_t, best_index\n",
        "\n",
        "\n",
        "def build_tree(data, labels):\n",
        "  quality, t, index = find_best_split(data, labels)\n",
        "\n",
        "  if quality == 0:\n",
        "    return Leaf(data, labels)\n",
        "\n",
        "  true_data, false_data, true_labels, false_labels = split(data, labels, index, t)\n",
        "  true_branch = build_tree(true_data, true_labels)\n",
        "  false_branch = build_tree(false_data, false_labels)\n",
        "\n",
        "  return Node(index, t, true_branch, false_branch)\n",
        "\n",
        "\n",
        "def classify_object(obj, node):\n",
        "  if isinstance(node, Leaf):\n",
        "    answer = node.prediction\n",
        "    return answer\n",
        "\n",
        "  if obj[node.index] <= node.t:\n",
        "    return classify_object(obj, node.true_branch)\n",
        "  else:\n",
        "    return classify_object(obj, node.false_branch)\n",
        "    \n",
        "    \n",
        "def predict(data, tree):\n",
        "  classes = []\n",
        "  for obj in data:\n",
        "    prediction = classify_object(obj, tree)\n",
        "    classes.append(prediction)\n",
        "  return np.array(classes)"
      ],
      "metadata": {
        "id": "NDVs3CJvDBOM"
      },
      "execution_count": 202,
      "outputs": []
    },
    {
      "cell_type": "code",
      "source": [
        "random.seed(48)\n",
        "\n",
        "def get_bootstrap(data, labels, N):\n",
        "  n_samples = data.shape[0]\n",
        "  bootstrap = []\n",
        "  for i in range(N):\n",
        "    indexes = np.random.randint(0, n_samples-1, size=labels.shape)\n",
        "    mask = np.ones((data.shape[0],), dtype=bool)\n",
        "    mask[indexes] = False\n",
        "    bootstrap.append((data[indexes, :], labels[indexes], mask))\n",
        "  return bootstrap\n",
        "\n",
        "\n",
        "def random_forest(data, labels, n_trees):\n",
        "    forest = []\n",
        "    bootstrap = get_bootstrap(data, labels, n_trees)\n",
        "    \n",
        "    for b_data, b_labels, mask in bootstrap:\n",
        "        cur_tree = build_tree(b_data, b_labels) \n",
        "        forest.append(cur_tree)\n",
        "        cur_tree.score = 1\n",
        "        \n",
        "    return forest, bootstrap\n",
        "\n",
        "\n",
        "def tree_vote(forest, data):\n",
        "  predictions = []\n",
        "  for tree in forest:\n",
        "    predictions.append(predict(data, tree))\n",
        "        \n",
        "  n_objects = data.shape[0]\n",
        "  n_classes = max([max(p) for p in predictions])+1\n",
        "  scores = np.zeros((n_objects, n_classes))\n",
        "  \n",
        "  for tree, p in zip(forest, predictions):\n",
        "    scores[np.arange(n_objects), p]+=tree.score\n",
        "  \n",
        "  return np.apply_along_axis(np.argmax, 1, scores)"
      ],
      "metadata": {
        "id": "7DFdJi7fD_wi"
      },
      "execution_count": 203,
      "outputs": []
    },
    {
      "cell_type": "code",
      "source": [
        "def accuracy_metric(actual, predicted):\n",
        "  return np.sum(actual==predicted)/len(actual)\n",
        "\n",
        "def balanced_accuracy_metric(actual, predicted):\n",
        "  true_predicted = (actual==predicted).astype(int)\n",
        "  sensitivity = np.sum(actual * true_predicted)/np.sum(actual==1)\n",
        "  specificity = np.sum((1 - actual) * true_predicted)/np.sum(actual==0)\n",
        "  return 0.5 * (sensitivity + specificity)"
      ],
      "metadata": {
        "id": "VQOaOdIJFCsc"
      },
      "execution_count": 204,
      "outputs": []
    },
    {
      "cell_type": "code",
      "source": [
        "clas_data, clas_labels = datasets.make_classification(n_samples=500, n_features=5,\n",
        "                                                      n_informative=5, n_classes=2,\n",
        "                                                      n_redundant=0, n_clusters_per_class=1,  \n",
        "                                                      random_state=23)\n",
        "\n",
        "colors = ListedColormap(['orangered', 'teal'])\n",
        "light_colors = ListedColormap(['lightcoral', 'lightblue'])\n",
        "\n",
        "plt.figure(figsize=(8,8))\n",
        "plt.scatter(list(map(lambda x: x[0], clas_data)), list(map(lambda x: x[1], clas_data)), \n",
        "              c=clas_labels, cmap=colors)"
      ],
      "metadata": {
        "colab": {
          "base_uri": "https://localhost:8080/",
          "height": 500
        },
        "outputId": "a0d4d3cf-103d-442b-9aef-ef2c9d9dbf7b",
        "id": "4sAnRtOFTPaQ"
      },
      "execution_count": 205,
      "outputs": [
        {
          "output_type": "execute_result",
          "data": {
            "text/plain": [
              "<matplotlib.collections.PathCollection at 0x7fb2b8abf890>"
            ]
          },
          "metadata": {},
          "execution_count": 205
        },
        {
          "output_type": "display_data",
          "data": {
            "text/plain": [
              "<Figure size 576x576 with 1 Axes>"
            ],
            "image/png": "[encoded data removed]"
          },
          "metadata": {
            "needs_background": "light"
          }
        }
      ]
    },
    {
      "cell_type": "code",
      "source": [
        "n_trees = 3\n",
        "my_forest_3, my_bootstraps = random_forest(clas_data, clas_labels, n_trees)"
      ],
      "metadata": {
        "id": "r0CRts3aZr_w"
      },
      "execution_count": 235,
      "outputs": []
    },
    {
      "cell_type": "code",
      "source": [
        "# Рассчитаем точность и сбалансированную точность при одинаковом весе каждого дерева (по умолчанию tree.score = 1)\n",
        "forest_answers = tree_vote(my_forest_3, clas_data)\n",
        "forest_acc = accuracy_metric(clas_labels, forest_answers)\n",
        "forest_balanced_acc = balanced_accuracy_metric(clas_labels, forest_answers)\n",
        "print(f'Точность леса из {n_trees} деревьев составлет {forest_acc*100: .2f}%, сбалансированная точность составляет {forest_balanced_acc*100: .2f}%')"
      ],
      "metadata": {
        "colab": {
          "base_uri": "https://localhost:8080/"
        },
        "outputId": "2b6824b2-251f-4dde-ddcd-1d3ab5424d8b",
        "id": "9VrJUlBAZr_z"
      },
      "execution_count": 236,
      "outputs": [
        {
          "output_type": "stream",
          "name": "stdout",
          "text": [
            "Точность леса из 3 деревьев составлет  98.60%, сбалансированная точность составляет  98.60%\n"
          ]
        }
      ]
    },
    {
      "cell_type": "code",
      "source": [
        "# Рассчитаем OOB-score для каждого дерева и примем этот показатель в качестве веса дерева при голосовании\n",
        "for tree, bootstrap in zip(my_forest_3, my_bootstraps):\n",
        "  oob_answers = predict(clas_data[bootstrap[2]], tree)\n",
        "  tree.score = accuracy_metric(clas_labels[bootstrap[2]], oob_answers)\n",
        "  # print(tree.score)\n",
        "\n",
        "forest_answers = tree_vote(my_forest_3, clas_data)\n",
        "forest_acc = accuracy_metric(clas_labels, forest_answers)\n",
        "forest_balanced_acc = balanced_accuracy_metric(clas_labels, forest_answers)\n",
        "print(f'Точность леса из {n_trees} деревьев составлет {forest_acc*100: .2f}%, сбалансированная точность составляет {forest_balanced_acc*100: .2f}%')\n",
        "  "
      ],
      "metadata": {
        "colab": {
          "base_uri": "https://localhost:8080/"
        },
        "outputId": "677e3cc9-bb16-41bc-8110-b30c9a001f71",
        "id": "CV-eGizeZr_3"
      },
      "execution_count": 237,
      "outputs": [
        {
          "output_type": "stream",
          "name": "stdout",
          "text": [
            "Точность леса из 3 деревьев составлет  98.60%, сбалансированная точность составляет  98.60%\n"
          ]
        }
      ]
    },
    {
      "cell_type": "code",
      "source": [
        "n_trees = 10\n",
        "my_forest_10, my_bootstraps = random_forest(clas_data, clas_labels, n_trees)"
      ],
      "metadata": {
        "id": "ImtFOs1vwco0"
      },
      "execution_count": 232,
      "outputs": []
    },
    {
      "cell_type": "code",
      "source": [
        "# Рассчитаем точность и сбалансированную точность при одинаковом весе каждого дерева (по умолчанию tree.score = 1)\n",
        "forest_answers = tree_vote(my_forest_10, clas_data)\n",
        "forest_acc = accuracy_metric(clas_labels, forest_answers)\n",
        "forest_balanced_acc = balanced_accuracy_metric(clas_labels, forest_answers)\n",
        "print(f'Точность леса из {n_trees} деревьев составлет {forest_acc*100: .2f}%, сбалансированная точность составляет {forest_balanced_acc*100: .2f}%')"
      ],
      "metadata": {
        "colab": {
          "base_uri": "https://localhost:8080/"
        },
        "id": "mibsuYm-D6zu",
        "outputId": "4b7b2788-478c-44fb-8285-77cfa9134174"
      },
      "execution_count": 233,
      "outputs": [
        {
          "output_type": "stream",
          "name": "stdout",
          "text": [
            "Точность леса из 10 деревьев составлет  99.20%, сбалансированная точность составляет  99.20%\n"
          ]
        }
      ]
    },
    {
      "cell_type": "code",
      "source": [
        "# Рассчитаем OOB-score для каждого дерева и примем этот показатель в качестве веса дерева при голосовании\n",
        "for tree, bootstrap in zip(my_forest_10, my_bootstraps):\n",
        "  oob_answers = predict(clas_data[bootstrap[2]], tree)\n",
        "  tree.score = accuracy_metric(clas_labels[bootstrap[2]], oob_answers)\n",
        "  # print(tree.score)\n",
        "\n",
        "forest_answers = tree_vote(my_forest_10, clas_data)\n",
        "forest_acc = accuracy_metric(clas_labels, forest_answers)\n",
        "forest_balanced_acc = balanced_accuracy_metric(clas_labels, forest_answers)\n",
        "print(f'Точность леса из {n_trees} деревьев составлет {forest_acc*100: .2f}%, сбалансированная точность составляет {forest_balanced_acc*100: .2f}%')\n",
        "  "
      ],
      "metadata": {
        "colab": {
          "base_uri": "https://localhost:8080/"
        },
        "id": "uDuHu9zDw7Dp",
        "outputId": "89913032-8a61-40cd-816c-c25100ae8e53"
      },
      "execution_count": 234,
      "outputs": [
        {
          "output_type": "stream",
          "name": "stdout",
          "text": [
            "Точность леса из 10 деревьев составлет  99.60%, сбалансированная точность составляет  99.60%\n"
          ]
        }
      ]
    },
    {
      "cell_type": "code",
      "source": [
        "n_trees = 17\n",
        "my_forest_17, my_bootstraps = random_forest(clas_data, clas_labels, n_trees)"
      ],
      "metadata": {
        "id": "VeJJWqyYa6Sn"
      },
      "execution_count": 241,
      "outputs": []
    },
    {
      "cell_type": "code",
      "source": [
        "# Рассчитаем точность и сбалансированную точность при одинаковом весе каждого дерева (по умолчанию tree.score = 1)\n",
        "forest_answers = tree_vote(my_forest_17, clas_data)\n",
        "forest_acc = accuracy_metric(clas_labels, forest_answers)\n",
        "forest_balanced_acc = balanced_accuracy_metric(clas_labels, forest_answers)\n",
        "print(f'Точность леса из {n_trees} деревьев составлет {forest_acc*100: .2f}%, сбалансированная точность составляет {forest_balanced_acc*100: .2f}%')"
      ],
      "metadata": {
        "colab": {
          "base_uri": "https://localhost:8080/"
        },
        "outputId": "830214f1-cbe5-4876-c2c2-8eadd2cb82eb",
        "id": "quFH7dKea6Sr"
      },
      "execution_count": 242,
      "outputs": [
        {
          "output_type": "stream",
          "name": "stdout",
          "text": [
            "Точность леса из 17 деревьев составлет  100.00%, сбалансированная точность составляет  100.00%\n"
          ]
        }
      ]
    },
    {
      "cell_type": "code",
      "source": [
        "# Рассчитаем OOB-score для каждого дерева и примем этот показатель в качестве веса дерева при голосовании\n",
        "for tree, bootstrap in zip(my_forest_17, my_bootstraps):\n",
        "  oob_answers = predict(clas_data[bootstrap[2]], tree)\n",
        "  tree.score = accuracy_metric(clas_labels[bootstrap[2]], oob_answers)\n",
        "  # print(tree.score)\n",
        "\n",
        "forest_answers = tree_vote(my_forest_17, clas_data)\n",
        "forest_acc = accuracy_metric(clas_labels, forest_answers)\n",
        "forest_balanced_acc = balanced_accuracy_metric(clas_labels, forest_answers)\n",
        "print(f'Точность леса из {n_trees} деревьев составлет {forest_acc*100: .2f}%, сбалансированная точность составляет {forest_balanced_acc*100: .2f}%')\n",
        "  "
      ],
      "metadata": {
        "colab": {
          "base_uri": "https://localhost:8080/"
        },
        "outputId": "e91a9b43-caa1-4999-a09e-8ab6a7f3e547",
        "id": "yjIpsBYIa6Sw"
      },
      "execution_count": 243,
      "outputs": [
        {
          "output_type": "stream",
          "name": "stdout",
          "text": [
            "Точность леса из 17 деревьев составлет  100.00%, сбалансированная точность составляет  100.00%\n"
          ]
        }
      ]
    },
    {
      "cell_type": "markdown",
      "source": [
        "Попробуем рассчитать точность деревьев на более сложных данных"
      ],
      "metadata": {
        "id": "nnl26apZbUwc"
      }
    },
    {
      "cell_type": "code",
      "source": [
        "clas_data, clas_labels = datasets.make_classification(n_samples=100, n_features=200,\n",
        "                                                      n_informative=200, n_classes=2,\n",
        "                                                      n_redundant=0, n_clusters_per_class=7,  \n",
        "                                                      class_sep=0.02, random_state=2)\n",
        "\n",
        "colors = ListedColormap(['orangered', 'teal'])\n",
        "light_colors = ListedColormap(['lightcoral', 'lightblue'])\n",
        "\n",
        "plt.figure(figsize=(8,8))\n",
        "plt.scatter(list(map(lambda x: x[0], clas_data)), list(map(lambda x: x[1], clas_data)), \n",
        "              c=clas_labels, cmap=colors)"
      ],
      "metadata": {
        "colab": {
          "base_uri": "https://localhost:8080/",
          "height": 500
        },
        "outputId": "5c0a1186-a324-4b3f-f4fb-77cb8d142678",
        "id": "KQAlapXNTJzr"
      },
      "execution_count": 246,
      "outputs": [
        {
          "output_type": "execute_result",
          "data": {
            "text/plain": [
              "<matplotlib.collections.PathCollection at 0x7fb2b8a60c10>"
            ]
          },
          "metadata": {},
          "execution_count": 246
        },
        {
          "output_type": "display_data",
          "data": {
            "text/plain": [
              "<Figure size 576x576 with 1 Axes>"
            ],
            "image/png": "[encoded data removed]"
          },
          "metadata": {
            "needs_background": "light"
          }
        }
      ]
    },
    {
      "cell_type": "code",
      "source": [
        "n_trees = 3\n",
        "my_forest_3, my_bootstraps = random_forest(clas_data, clas_labels, n_trees)"
      ],
      "metadata": {
        "id": "c6KtbQINbqhp"
      },
      "execution_count": 247,
      "outputs": []
    },
    {
      "cell_type": "code",
      "source": [
        "# Рассчитаем точность и сбалансированную точность при одинаковом весе каждого дерева (по умолчанию tree.score = 1)\n",
        "forest_answers = tree_vote(my_forest_3, clas_data)\n",
        "forest_acc = accuracy_metric(clas_labels, forest_answers)\n",
        "forest_balanced_acc = balanced_accuracy_metric(clas_labels, forest_answers)\n",
        "print(f'Точность леса из {n_trees} деревьев составлет {forest_acc*100: .2f}%, сбалансированная точность составляет {forest_balanced_acc*100: .2f}%')"
      ],
      "metadata": {
        "colab": {
          "base_uri": "https://localhost:8080/"
        },
        "outputId": "1139d3d6-25d2-4681-d052-4ee96cf9ddfc",
        "id": "i9X0ZXahbqht"
      },
      "execution_count": 248,
      "outputs": [
        {
          "output_type": "stream",
          "name": "stdout",
          "text": [
            "Точность леса из 3 деревьев составлет  93.00%, сбалансированная точность составляет  93.00%\n"
          ]
        }
      ]
    },
    {
      "cell_type": "code",
      "source": [
        "# Рассчитаем OOB-score для каждого дерева и примем этот показатель в качестве веса дерева при голосовании\n",
        "for tree, bootstrap in zip(my_forest_3, my_bootstraps):\n",
        "  oob_answers = predict(clas_data[bootstrap[2]], tree)\n",
        "  tree.score = accuracy_metric(clas_labels[bootstrap[2]], oob_answers)\n",
        "  # print(tree.score)\n",
        "\n",
        "forest_answers = tree_vote(my_forest_3, clas_data)\n",
        "forest_acc = accuracy_metric(clas_labels, forest_answers)\n",
        "forest_balanced_acc = balanced_accuracy_metric(clas_labels, forest_answers)\n",
        "print(f'Точность леса из {n_trees} деревьев составлет {forest_acc*100: .2f}%, сбалансированная точность составляет {forest_balanced_acc*100: .2f}%')\n",
        "  "
      ],
      "metadata": {
        "colab": {
          "base_uri": "https://localhost:8080/"
        },
        "outputId": "fbe5c9ff-f964-40a8-c14b-a9c2ce963246",
        "id": "mGxiiECybqh0"
      },
      "execution_count": 250,
      "outputs": [
        {
          "output_type": "stream",
          "name": "stdout",
          "text": [
            "Точность леса из 3 деревьев составлет  93.00%, сбалансированная точность составляет  93.00%\n"
          ]
        }
      ]
    },
    {
      "cell_type": "code",
      "source": [
        "n_trees = 10\n",
        "my_forest_10, my_bootstraps = random_forest(clas_data, clas_labels, n_trees)"
      ],
      "metadata": {
        "id": "a9aHAfNFbqh4"
      },
      "execution_count": 253,
      "outputs": []
    },
    {
      "cell_type": "code",
      "source": [
        "# Рассчитаем точность и сбалансированную точность при одинаковом весе каждого дерева (по умолчанию tree.score = 1)\n",
        "forest_answers = tree_vote(my_forest_10, clas_data)\n",
        "forest_acc = accuracy_metric(clas_labels, forest_answers)\n",
        "forest_balanced_acc = balanced_accuracy_metric(clas_labels, forest_answers)\n",
        "print(f'Точность леса из {n_trees} деревьев составлет {forest_acc*100: .2f}%, сбалансированная точность составляет {forest_balanced_acc*100: .2f}%')"
      ],
      "metadata": {
        "colab": {
          "base_uri": "https://localhost:8080/"
        },
        "outputId": "47c1cde7-eca4-4caf-cce1-864cdb151387",
        "id": "x6OpOxGsbqh7"
      },
      "execution_count": 254,
      "outputs": [
        {
          "output_type": "stream",
          "name": "stdout",
          "text": [
            "Точность леса из 10 деревьев составлет  97.00%, сбалансированная точность составляет  97.00%\n"
          ]
        }
      ]
    },
    {
      "cell_type": "code",
      "source": [
        "# Рассчитаем OOB-score для каждого дерева и примем этот показатель в качестве веса дерева при голосовании\n",
        "for tree, bootstrap in zip(my_forest_10, my_bootstraps):\n",
        "  oob_answers = predict(clas_data[bootstrap[2]], tree)\n",
        "  tree.score = accuracy_metric(clas_labels[bootstrap[2]], oob_answers)\n",
        "  # print(tree.score)\n",
        "\n",
        "forest_answers = tree_vote(my_forest_10, clas_data)\n",
        "forest_acc = accuracy_metric(clas_labels, forest_answers)\n",
        "forest_balanced_acc = balanced_accuracy_metric(clas_labels, forest_answers)\n",
        "print(f'Точность леса из {n_trees} деревьев составлет {forest_acc*100: .2f}%, сбалансированная точность составляет {forest_balanced_acc*100: .2f}%')\n",
        "  "
      ],
      "metadata": {
        "colab": {
          "base_uri": "https://localhost:8080/"
        },
        "outputId": "e7b9946f-4189-4e9c-f536-a4794c9a3c72",
        "id": "AafruOMSbqh-"
      },
      "execution_count": 255,
      "outputs": [
        {
          "output_type": "stream",
          "name": "stdout",
          "text": [
            "Точность леса из 10 деревьев составлет  96.00%, сбалансированная точность составляет  96.00%\n"
          ]
        }
      ]
    },
    {
      "cell_type": "code",
      "source": [
        "n_trees = 17\n",
        "my_forest_17, my_bootstraps = random_forest(clas_data, clas_labels, n_trees)"
      ],
      "metadata": {
        "id": "yuYeD3W-bqiA"
      },
      "execution_count": 256,
      "outputs": []
    },
    {
      "cell_type": "code",
      "source": [
        "# Рассчитаем точность и сбалансированную точность при одинаковом весе каждого дерева (по умолчанию tree.score = 1)\n",
        "forest_answers = tree_vote(my_forest_17, clas_data)\n",
        "forest_acc = accuracy_metric(clas_labels, forest_answers)\n",
        "forest_balanced_acc = balanced_accuracy_metric(clas_labels, forest_answers)\n",
        "print(f'Точность леса из {n_trees} деревьев составлет {forest_acc*100: .2f}%, сбалансированная точность составляет {forest_balanced_acc*100: .2f}%')"
      ],
      "metadata": {
        "colab": {
          "base_uri": "https://localhost:8080/"
        },
        "outputId": "15c67e12-a3af-42a3-a6d1-dfba2f1649b1",
        "id": "RhpHE7GYbqiC"
      },
      "execution_count": 257,
      "outputs": [
        {
          "output_type": "stream",
          "name": "stdout",
          "text": [
            "Точность леса из 17 деревьев составлет  99.00%, сбалансированная точность составляет  99.00%\n"
          ]
        }
      ]
    },
    {
      "cell_type": "code",
      "source": [
        "# Рассчитаем OOB-score для каждого дерева и примем этот показатель в качестве веса дерева при голосовании\n",
        "for tree, bootstrap in zip(my_forest_17, my_bootstraps):\n",
        "  oob_answers = predict(clas_data[bootstrap[2]], tree)\n",
        "  tree.score = accuracy_metric(clas_labels[bootstrap[2]], oob_answers)\n",
        "  print(tree.score)\n",
        "\n",
        "forest_answers = tree_vote(my_forest_17, clas_data)\n",
        "forest_acc = accuracy_metric(clas_labels, forest_answers)\n",
        "forest_balanced_acc = balanced_accuracy_metric(clas_labels, forest_answers)\n",
        "print(f'Точность леса из {n_trees} деревьев составлет {forest_acc*100: .2f}%, сбалансированная точность составляет {forest_balanced_acc*100: .2f}%')\n",
        "  "
      ],
      "metadata": {
        "colab": {
          "base_uri": "https://localhost:8080/"
        },
        "outputId": "0977fb3c-20d5-4d61-9ae7-f836f2a5c360",
        "id": "KCE4sxywbqiE"
      },
      "execution_count": 259,
      "outputs": [
        {
          "output_type": "stream",
          "name": "stdout",
          "text": [
            "0.5128205128205128\n",
            "0.6470588235294118\n",
            "0.375\n",
            "0.5263157894736842\n",
            "0.5\n",
            "0.4411764705882353\n",
            "0.5263157894736842\n",
            "0.5294117647058824\n",
            "0.42857142857142855\n",
            "0.7142857142857143\n",
            "0.4375\n",
            "0.6486486486486487\n",
            "0.4838709677419355\n",
            "0.5263157894736842\n",
            "0.5789473684210527\n",
            "0.45\n",
            "0.53125\n",
            "Точность леса из 17 деревьев составлет  99.00%, сбалансированная точность составляет  99.00%\n"
          ]
        }
      ]
    },
    {
      "cell_type": "markdown",
      "source": [
        "Как видим, случайный лес - достаточно точный метод классификации, и использование OOB-score в качестве веса дерева при голосовании не оказывает заметного влияния на показтели точности и сбалансированной точности леса в целом, несмотря на то, что на сложных данных точность каждого отдельного дерева довольно низкая."
      ],
      "metadata": {
        "id": "28-qC162cHdu"
      }
    },
    {
      "cell_type": "code",
      "source": [
        "def OOB(data, labels, n_trees, forest, bootstrap):\n",
        "  oob = 0\n",
        "\n",
        "  for i in range(len(labels)):\n",
        "    trees_not_trained = 0\n",
        "    predictions_sum = 0\n",
        "\n",
        "    for n in range(n_trees):\n",
        "      tree = forest[n]\n",
        "      tree_train_data = bootstrap[n][0]\n",
        "      # print(clas_data[i]) \n",
        "      # print(tree_train_data)\n",
        "      \n",
        "\n",
        "      if data[i] in tree_train_data:\n",
        "        continue\n",
        "\n",
        "      trees_not_trained += 1\n",
        "      predictions_sum += predict([data[i]], tree)\n",
        "\n",
        "    if trees_not_trained == 0:\n",
        "      continue\n",
        "      \n",
        "    y_predicted = predictions_sum/trees_not_trained\n",
        "    oob += (labels[i] - y_predicted)**2\n",
        "\n",
        "  return oob/len(data)"
      ],
      "metadata": {
        "id": "VfgjUjp5InV-"
      },
      "execution_count": 176,
      "outputs": []
    }
  ]
}